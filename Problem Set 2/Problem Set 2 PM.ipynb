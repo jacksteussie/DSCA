{
 "cells": [
  {
   "cell_type": "code",
   "execution_count": 1,
   "id": "526b718d",
   "metadata": {},
   "outputs": [],
   "source": [
    "import sqlite3\n",
    "import numpy as np\n",
    "import csv\n",
    "import subprocess"
   ]
  },
  {
   "cell_type": "code",
   "execution_count": 3,
   "id": "58c0a505",
   "metadata": {},
   "outputs": [],
   "source": [
    "subprocess.call(['bash', 'rm powerlift.db', 'touch powerlift.db'])\n",
    "conn = sqlite3.connect('powerlift.db')\n",
    "cur = conn.cursor()"
   ]
  },
  {
   "cell_type": "code",
   "execution_count": 4,
   "id": "298bd35c",
   "metadata": {},
   "outputs": [],
   "source": [
    "cur.execute(\"SELECT count(name) FROM sqlite_master WHERE type='table' AND name='powerlift'\")\n",
    "if cur.fetchone() != 1:\n",
    "    subprocess.call(['sqlite3', 'powerlift.db', '.mode csv', '.import powerlift.csv powerlift'])"
   ]
  },
  {
   "cell_type": "code",
   "execution_count": 5,
   "id": "a0b7debf",
   "metadata": {},
   "outputs": [
    {
     "output_type": "stream",
     "name": "stdout",
     "text": [
      "[('TotalKg',)]\n"
     ]
    }
   ],
   "source": [
    "cur.execute(\"SELECT MAX(TotalKg) AS MaxKg FROM powerlift\")\n",
    "print(cur.fetchall())"
   ]
  },
  {
   "cell_type": "code",
   "execution_count": null,
   "metadata": {},
   "outputs": [],
   "source": []
  }
 ],
 "metadata": {
  "kernelspec": {
   "name": "python3",
   "display_name": "Python 3.8.5 64-bit ('base': conda)"
  },
  "language_info": {
   "codemirror_mode": {
    "name": "ipython",
    "version": 3
   },
   "file_extension": ".py",
   "mimetype": "text/x-python",
   "name": "python",
   "nbconvert_exporter": "python",
   "pygments_lexer": "ipython3",
   "version": "3.8.5"
  },
  "metadata": {
   "interpreter": {
    "hash": "119f7ade630b2512c404dc7d8722952cd16ced6db298e1cc925a0bfe003b0b33"
   }
  },
  "interpreter": {
   "hash": "119f7ade630b2512c404dc7d8722952cd16ced6db298e1cc925a0bfe003b0b33"
  }
 },
 "nbformat": 4,
 "nbformat_minor": 5
}