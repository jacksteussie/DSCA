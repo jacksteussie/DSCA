{
 "cells": [
  {
   "cell_type": "code",
   "execution_count": 1,
   "id": "526b718d",
   "metadata": {},
   "outputs": [],
   "source": [
    "import sqlite3\n",
    "import numpy as np\n",
    "import csv"
   ]
  },
  {
   "cell_type": "code",
   "execution_count": 2,
   "id": "58c0a505",
   "metadata": {},
   "outputs": [],
   "source": [
    "conn = sqlite3.connect('powerlift.db')\n",
    "cur = conn.cursor()"
   ]
  },
  {
   "cell_type": "code",
   "execution_count": 3,
   "id": "10ba91e1",
   "metadata": {},
   "outputs": [
    {
     "data": {
      "text/plain": [
       "<sqlite3.Cursor at 0x7fd2c14795e0>"
      ]
     },
     "execution_count": 3,
     "metadata": {},
     "output_type": "execute_result"
    }
   ],
   "source": [
    "cur.execute(''' CREATE TABLE lift (Name,Sex,Event,Equipment,Age,AgeClass,\n",
    "                                BirthYearClass,Division,BodyweightKg,\n",
    "                                WeightClassKg,Squat1Kg,Squat2Kg,Squat3Kg,\n",
    "                                Squat4Kg,Best3SquatKg,Bench1Kg,Bench2Kg,Bench3Kg,\n",
    "                                Bench4Kg,Best3BenchKg,Deadlift1Kg,Deadlift2Kg,\n",
    "                                Deadlift3Kg,Deadlift4Kg,Best3DeadliftKg,TotalKg,\n",
    "                                Place,Dots,Wilks,Glossbrenner,Goodlift,Tested,Country,\n",
    "                                State,Federation,ParentFederation,Date,MeetCountry,\n",
    "                                MeetState,MeetTown,MeetName);\n",
    "            ''')"
   ]
  },
  {
   "cell_type": "code",
   "execution_count": 4,
   "id": "298bd35c",
   "metadata": {},
   "outputs": [],
   "source": [
    "with open('powerlifting_data/powerlifting.csv','r') as fin:\n",
    "    # csv.DictReader uses first line in file for column headings by default\n",
    "    dr = csv.DictReader(fin) # comma is default delimiter\n",
    "    to_db = [(i['Name'], i['Sex'], i['Event'], i['Equipment'], i['Age'], i['AgeClass'], i['BirthYearClass'], \n",
    "              i['Division'], i['BodyweightKg'], i['WeightClassKg'], i['Squat1Kg'], i['Squat2Kg'], i['Squat3Kg'], \n",
    "              i['Squat4Kg'], i['Best3SquatKg'], i['Bench1Kg'], i['Bench2Kg'], i['Bench3Kg'], i['Bench4Kg'], i['Best3BenchKg'], \n",
    "              i['Deadlift1Kg'], i['Deadlift1Kg'], i['Deadlift2Kg'], i['Deadlift3Kg'], i['Deadlift4Kg'], i['Best3DeadliftKg'], \n",
    "              i['TotalKg'], i['Place'], i['Dots'], i['Wilks'], i['Glossbrenner'], i['Goodlift'], i['Tested'], i['Country'], \n",
    "              i['State'], i['Federation'], i['ParentFederation'], i['Date'], i['MeetCountry'], i['MeetState'], i['MeetTown'], \n",
    "              i['MeetName']) for i in dr]"
   ]
  },
  {
   "cell_type": "code",
   "execution_count": 17,
   "id": "a0b7debf",
   "metadata": {},
   "outputs": [
    {
     "ename": "OperationalError",
     "evalue": "near \"PRINT\": syntax error",
     "output_type": "error",
     "traceback": [
      "\u001b[0;31m---------------------------------------------------------------------------\u001b[0m",
      "\u001b[0;31mOperationalError\u001b[0m                          Traceback (most recent call last)",
      "\u001b[0;32m<ipython-input-17-091dce00e547>\u001b[0m in \u001b[0;36m<module>\u001b[0;34m\u001b[0m\n\u001b[1;32m      1\u001b[0m \u001b[0mcur\u001b[0m\u001b[0;34m.\u001b[0m\u001b[0mexecute\u001b[0m\u001b[0;34m(\u001b[0m\u001b[0;34m\"SELECT MAX(TotalKg) AS MaxKg FROM lift\"\u001b[0m\u001b[0;34m)\u001b[0m\u001b[0;34m\u001b[0m\u001b[0;34m\u001b[0m\u001b[0m\n\u001b[0;32m----> 2\u001b[0;31m \u001b[0mcur\u001b[0m\u001b[0;34m.\u001b[0m\u001b[0mexecute\u001b[0m\u001b[0;34m(\u001b[0m\u001b[0;34m\"PRINT MAX(TotalKg) FROM lift\"\u001b[0m\u001b[0;34m)\u001b[0m\u001b[0;34m\u001b[0m\u001b[0;34m\u001b[0m\u001b[0m\n\u001b[0m",
      "\u001b[0;31mOperationalError\u001b[0m: near \"PRINT\": syntax error"
     ]
    }
   ],
   "source": [
    "cur.execute(\"SELECT MAX(TotalKg) AS MaxKg FROM lift\")\n",
    "cur.execute(\"PRINT MAX(TotalKg) FROM lift\")"
   ]
  },
  {
   "cell_type": "code",
   "execution_count": 6,
   "id": "cf9ac175",
   "metadata": {},
   "outputs": [],
   "source": [
    "# cur.execute(\"DROP TABLE lift\")"
   ]
  }
 ],
 "metadata": {
  "kernelspec": {
   "display_name": "Python 3.8.5 64-bit ('base': conda)",
   "language": "python",
   "name": "python385jvsc74a57bd0119f7ade630b2512c404dc7d8722952cd16ced6db298e1cc925a0bfe003b0b33"
  },
  "language_info": {
   "codemirror_mode": {
    "name": "ipython",
    "version": 3
   },
   "file_extension": ".py",
   "mimetype": "text/x-python",
   "name": "python",
   "nbconvert_exporter": "python",
   "pygments_lexer": "ipython3",
   "version": "3.8.5"
  }
 },
 "nbformat": 4,
 "nbformat_minor": 5
}
