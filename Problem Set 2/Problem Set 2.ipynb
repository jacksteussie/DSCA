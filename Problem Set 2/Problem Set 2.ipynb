{
 "cells": [
  {
   "cell_type": "markdown",
   "id": "babfdd61",
   "metadata": {},
   "source": [
    "# Problem Set 2 (AM)"
   ]
  },
  {
   "cell_type": "code",
   "execution_count": 2,
   "id": "d2a2ddb3",
   "metadata": {},
   "outputs": [],
   "source": [
    "import numpy as np\n",
    "from matplotlib import pyplot as plt\n",
    "import matplotlib\n",
    "from matplotlib.patches import Polygon\n",
    "matplotlib.rcParams['figure.figsize'] = [10, 10]"
   ]
  },
  {
   "cell_type": "code",
   "execution_count": 4,
   "id": "9afd54c4",
   "metadata": {},
   "outputs": [],
   "source": [
    "def f(x): return np.sqrt(1 - x ** 2)\n",
    "\n",
    "def trap_approx_fx(n):\n",
    "    delta_x = (1 - 0) / n\n",
    "    approx = 0\n",
    "    interval = np.linspace(0, 1, n+1)\n",
    "    for i in range(n+1):\n",
    "        if i == 0 or i == n+1:\n",
    "            approx += (delta_x / 2) * f(interval[i])\n",
    "        else:\n",
    "            approx += (delta_x / 2) * 2 * f(interval[i])\n",
    "    return approx"
   ]
  },
  {
   "cell_type": "code",
   "execution_count": 8,
   "id": "5d1693c3",
   "metadata": {},
   "outputs": [
    {
     "data": {
      "text/plain": [
       "0.7851042579447618"
      ]
     },
     "execution_count": 8,
     "metadata": {},
     "output_type": "execute_result"
    }
   ],
   "source": [
    "trap_approx_fx(100)"
   ]
  },
  {
   "cell_type": "code",
   "execution_count": null,
   "id": "a00706f1",
   "metadata": {},
   "outputs": [],
   "source": []
  }
 ],
 "metadata": {
  "kernelspec": {
   "display_name": "Python 3.8.5 64-bit ('base': conda)",
   "language": "python",
   "name": "python385jvsc74a57bd0119f7ade630b2512c404dc7d8722952cd16ced6db298e1cc925a0bfe003b0b33"
  },
  "language_info": {
   "codemirror_mode": {
    "name": "ipython",
    "version": 3
   },
   "file_extension": ".py",
   "mimetype": "text/x-python",
   "name": "python",
   "nbconvert_exporter": "python",
   "pygments_lexer": "ipython3",
   "version": "3.8.5"
  }
 },
 "nbformat": 4,
 "nbformat_minor": 5
}
